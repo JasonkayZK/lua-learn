{
 "cells": [
  {
   "cell_type": "code",
   "execution_count": 1,
   "id": "8cc1d444-72da-4703-afcb-a710c1882f1f",
   "metadata": {},
   "outputs": [
    {
     "name": "stdout",
     "output_type": "stream",
     "text": [
      "Hello, world!\n"
     ]
    }
   ],
   "source": [
    "print(\"Hello, world!\")"
   ]
  },
  {
   "cell_type": "code",
   "execution_count": null,
   "id": "2c7f2ccd-57c5-4755-aed1-2f81c26939b1",
   "metadata": {},
   "outputs": [],
   "source": []
  }
 ],
 "metadata": {
  "kernelspec": {
   "display_name": "Lua",
   "language": "lua",
   "name": "lua"
  },
  "language_info": {
   "file_extension": ".lua",
   "mimetype": "text/x-lua",
   "name": "lua",
   "version": "5.4"
  }
 },
 "nbformat": 4,
 "nbformat_minor": 5
}
